{
 "metadata": {
  "language_info": {
   "codemirror_mode": {
    "name": "ipython",
    "version": 3
   },
   "file_extension": ".py",
   "mimetype": "text/x-python",
   "name": "python",
   "nbconvert_exporter": "python",
   "pygments_lexer": "ipython3",
   "version": "3.8.10"
  },
  "orig_nbformat": 2,
  "kernelspec": {
   "name": "python3810jvsc74a57bd0b3e3fbf227ff28313addac01dc135fb9e9b4eadcffb7e59ec44e503a1c72d457",
   "display_name": "Python 3.8.10 64-bit ('iqml': conda)"
  },
  "metadata": {
   "interpreter": {
    "hash": "b3e3fbf227ff28313addac01dc135fb9e9b4eadcffb7e59ec44e503a1c72d457"
   }
  }
 },
 "nbformat": 4,
 "nbformat_minor": 2,
 "cells": [
  {
   "cell_type": "code",
   "execution_count": 1,
   "metadata": {},
   "outputs": [],
   "source": [
    "import socket\n",
    "import socketio"
   ]
  },
  {
   "cell_type": "code",
   "execution_count": 3,
   "metadata": {},
   "outputs": [
    {
     "output_type": "stream",
     "name": "stdout",
     "text": [
      "138.26.170.137\n"
     ]
    }
   ],
   "source": [
    "s = socket.socket(socket.AF_INET, socket.SOCK_DGRAM)\n",
    "s.connect(('8.8.8.8', 80))\n",
    "ip = s.getsockname()[0]\n",
    "s.close()\n",
    "print(ip)"
   ]
  },
  {
   "cell_type": "code",
   "execution_count": 7,
   "metadata": {},
   "outputs": [],
   "source": [
    "sio = socketio.Client()"
   ]
  },
  {
   "cell_type": "code",
   "execution_count": 8,
   "metadata": {},
   "outputs": [
    {
     "output_type": "stream",
     "name": "stdout",
     "text": [
      "sid: 42267918769e481f9d5912f7bced1dfd\n"
     ]
    }
   ],
   "source": [
    "sio.connect('http://' + ip + ':5000')\n",
    "print('sid:', sio.sid)"
   ]
  },
  {
   "cell_type": "code",
   "execution_count": 9,
   "metadata": {},
   "outputs": [
    {
     "output_type": "execute_result",
     "data": {
      "text/plain": [
       "'http://138.26.170.137:5000'"
      ]
     },
     "metadata": {},
     "execution_count": 9
    }
   ],
   "source": [
    "'http://' + ip + ':5000'"
   ]
  },
  {
   "cell_type": "code",
   "execution_count": null,
   "metadata": {},
   "outputs": [],
   "source": []
  }
 ]
}